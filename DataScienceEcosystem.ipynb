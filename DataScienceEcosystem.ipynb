{
 "cells": [
  {
   "cell_type": "markdown",
   "id": "dfa1ae91-38f7-4bdd-b13f-7887bde1e779",
   "metadata": {},
   "source": [
    "# Data Science Tools and Ecosystem"
   ]
  },
  {
   "cell_type": "markdown",
   "id": "51c85b6d-c0fd-4c5a-9f10-cdcde80660c7",
   "metadata": {},
   "source": [
    "In this notebook, Data Science Tools and Ecosystem are summarized."
   ]
  },
  {
   "cell_type": "markdown",
   "id": "a7ccb2e1-a960-43e0-a81c-5ed095edd8d2",
   "metadata": {},
   "source": [
    "**Objectives:** \n",
    "* List popular languages for Data Science\n",
    "* Commonly used libraries used by data scientists\n",
    "* Simple arithmetic expressions\n",
    "* Data science tools"
   ]
  },
  {
   "cell_type": "markdown",
   "id": "9f9d1db9-7f02-49e3-bd21-a6dceca82810",
   "metadata": {},
   "source": [
    "Some of the popular languages that Data Scientists use are:"
   ]
  },
  {
   "cell_type": "markdown",
   "id": "14b32a55-76a5-4885-849a-8efcb0476650",
   "metadata": {},
   "source": [
    "1. Python\n",
    "2. R\n",
    "3. SQL"
   ]
  },
  {
   "cell_type": "markdown",
   "id": "f38ad390-c3e0-4009-b713-6888ae9e9307",
   "metadata": {},
   "source": [
    "Some of the commonly used libraries used by Data Scientists include:"
   ]
  },
  {
   "cell_type": "markdown",
   "id": "d14a7783-74c5-404d-88cc-ef54bd5c4217",
   "metadata": {},
   "source": [
    "1. Pandas\n",
    "2. MatPlotLib\n",
    "3. NumPy"
   ]
  },
  {
   "cell_type": "markdown",
   "id": "9a055598-0915-4399-9824-9398520a60ea",
   "metadata": {},
   "source": [
    "|Data Science Tools|\n",
    "--------------------\n",
    "|R Studio          |\n",
    "|JupyterLab        |\n",
    "|Spyder            |"
   ]
  },
  {
   "cell_type": "markdown",
   "id": "2711241f-3612-4a24-890e-c9dca488b5fd",
   "metadata": {
    "tags": []
   },
   "source": [
    "### Below are a few examples of evaluating arithmetic expressions in Python"
   ]
  },
  {
   "cell_type": "markdown",
   "id": "208f8f42-781b-4657-8336-62dd8d9459bf",
   "metadata": {},
   "source": [
    "This a simple arithmetic expression to multiply then add integers"
   ]
  },
  {
   "cell_type": "code",
   "execution_count": 3,
   "id": "09804358-c9de-4d49-92f5-e9c96f55cd33",
   "metadata": {
    "tags": []
   },
   "outputs": [
    {
     "data": {
      "text/plain": [
       "17"
      ]
     },
     "execution_count": 3,
     "metadata": {},
     "output_type": "execute_result"
    }
   ],
   "source": [
    "(3*4)+5"
   ]
  },
  {
   "cell_type": "markdown",
   "id": "3cb0f033-5cfa-4b17-8fd6-4aefe58c46c4",
   "metadata": {},
   "source": [
    "This will convert 200 minutes to hours by diving by 60"
   ]
  },
  {
   "cell_type": "code",
   "execution_count": 5,
   "id": "270a4593-6f79-4c70-9a83-387776199d65",
   "metadata": {
    "tags": []
   },
   "outputs": [
    {
     "data": {
      "text/plain": [
       "3.3333333333333335"
      ]
     },
     "execution_count": 5,
     "metadata": {},
     "output_type": "execute_result"
    }
   ],
   "source": [
    "200/60"
   ]
  },
  {
   "cell_type": "markdown",
   "id": "521129c7-4b6d-4d91-a4c9-552c312b99cc",
   "metadata": {},
   "source": [
    "## Author\n",
    "Edouard"
   ]
  },
  {
   "cell_type": "code",
   "execution_count": null,
   "id": "c803dd7d-12e1-4b74-b7ec-4ca32974bd5c",
   "metadata": {},
   "outputs": [],
   "source": []
  }
 ],
 "metadata": {
  "kernelspec": {
   "display_name": "Python",
   "language": "python",
   "name": "conda-env-python-py"
  },
  "language_info": {
   "codemirror_mode": {
    "name": "ipython",
    "version": 3
   },
   "file_extension": ".py",
   "mimetype": "text/x-python",
   "name": "python",
   "nbconvert_exporter": "python",
   "pygments_lexer": "ipython3",
   "version": "3.7.12"
  }
 },
 "nbformat": 4,
 "nbformat_minor": 5
}
